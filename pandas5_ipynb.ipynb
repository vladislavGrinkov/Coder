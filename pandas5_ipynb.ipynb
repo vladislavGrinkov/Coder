{
  "nbformat": 4,
  "nbformat_minor": 0,
  "metadata": {
    "colab": {
      "name": "Копия блокнота \"pandas5.ipynb\"",
      "provenance": [],
      "collapsed_sections": [],
      "include_colab_link": true
    },
    "kernelspec": {
      "name": "python3",
      "display_name": "Python 3"
    }
  },
  "cells": [
    {
      "cell_type": "markdown",
      "metadata": {
        "id": "view-in-github",
        "colab_type": "text"
      },
      "source": [
        "<a href=\"https://colab.research.google.com/github/vladislavGrinkov/Coder/blob/master/pandas5_ipynb.ipynb\" target=\"_parent\"><img src=\"https://colab.research.google.com/assets/colab-badge.svg\" alt=\"Open In Colab\"/></a>"
      ]
    },
    {
      "cell_type": "code",
      "metadata": {
        "id": "xZCeIVRkpGDa"
      },
      "source": [
        "#Импортировать модули sys numpy pandas\n",
        "import numpy as np\n",
        "import pandas as pd"
      ],
      "execution_count": null,
      "outputs": []
    },
    {
      "cell_type": "code",
      "metadata": {
        "id": "BOzL9fYigc-1"
      },
      "source": [
        "#Получить от объекта Series показатели описательной статистики\n",
        "state = np.random.RandomState(42)\n",
        " \n",
        "s = pd.Series(state.normal(10, 5, 25))\n",
        "pkz = s.describe()\n",
        "print(pkz)"
      ],
      "execution_count": null,
      "outputs": []
    },
    {
      "cell_type": "code",
      "metadata": {
        "id": "kNjWTT22ggcc",
        "outputId": "615fade7-75c0-4f20-db98-b4fb18055068",
        "colab": {
          "base_uri": "https://localhost:8080/"
        }
      },
      "source": [
        "#Узнать частоту уникальных элементов объекта Series (гистограмма)\n",
        "len_series = 30\n",
        "data = 'abcdefghik'\n",
        "s = pd.Series(np.take(list(data), np.random.randint(len(data), size=len_series)))\n",
        " \n",
        "# считаем число вхождений\n",
        "ans = s.value_counts()\n",
        " \n",
        "print(ans)"
      ],
      "execution_count": null,
      "outputs": [
        {
          "output_type": "stream",
          "text": [
            "b    6\n",
            "g    4\n",
            "f    4\n",
            "c    3\n",
            "a    3\n",
            "h    3\n",
            "i    2\n",
            "k    2\n",
            "e    2\n",
            "d    1\n",
            "dtype: int64\n"
          ],
          "name": "stdout"
        }
      ]
    },
    {
      "cell_type": "code",
      "metadata": {
        "id": "lPa86es6gw-7"
      },
      "source": [
        "#Заменить все элементы объекта Series на \"Other\", кроме двух наиболее часто встречающихся\n",
        "state = np.random.RandomState(42)\n",
        "s = pd.Series(state.randint(low=1, high=5, size=[13]))\n",
        "print(s.value_counts())\n",
        "s[~s.isin(s.value_counts().index[:2])] = 'Other'\n",
        "print(s)\n"
      ],
      "execution_count": null,
      "outputs": []
    },
    {
      "cell_type": "code",
      "metadata": {
        "id": "L-A6rTKHg2Ar",
        "outputId": "057e3c89-5e6d-44e8-a28c-2e96409833c7",
        "colab": {
          "base_uri": "https://localhost:8080/"
        }
      },
      "source": [
        "#Создать объект Series в индексах дата каждый день 2019 года, в значениях случайное значение\n",
        "dti = pd.date_range(start='2019-01-01', end='2019-12-31', freq='B') \n",
        "s = pd.Series(np.random.rand(len(dti)), index=dti)\n",
        " \n",
        "# 1\n",
        "ans1 = s[s.index.weekday == 2].sum()\n",
        "print('Сумма всех \"вторников\"', ans1)\n",
        "print()\n",
        " \n",
        "# 2\n",
        "ans2 = s.resample('M').mean()\n",
        "print('Средние значения по месяцам:\\n', ans2)\n",
        "print()"
      ],
      "execution_count": null,
      "outputs": [
        {
          "output_type": "stream",
          "text": [
            "Сумма всех \"вторников\" 27.595725803888868\n",
            "\n",
            "Средние значения по месяцам:\n",
            " 2019-01-31    0.525134\n",
            "2019-02-28    0.550885\n",
            "2019-03-31    0.488903\n",
            "2019-04-30    0.467739\n",
            "2019-05-31    0.503045\n",
            "2019-06-30    0.505280\n",
            "2019-07-31    0.535306\n",
            "2019-08-31    0.595143\n",
            "2019-09-30    0.606525\n",
            "2019-10-31    0.397311\n",
            "2019-11-30    0.477477\n",
            "2019-12-31    0.521860\n",
            "Freq: M, dtype: float64\n",
            "\n"
          ],
          "name": "stdout"
        }
      ]
    },
    {
      "cell_type": "code",
      "metadata": {
        "id": "g-wTS889jId5"
      },
      "source": [
        "#Преобразовать объект Series в DataFrame заданной формы (shape)\n",
        "s = pd.Series(np.random.randint(low=1, high=10, size=[35]))\n",
        " \n",
        "# преобразование в reshape\n",
        "r = (7, 5)\n",
        " \n",
        "if r[0] * r[1] != len(s):\n",
        "    sys.exit('не возможно применить reshape')\n",
        "    \n",
        "df = pd.DataFrame(s.values.reshape(r))\n",
        " \n",
        "print(df)"
      ],
      "execution_count": null,
      "outputs": []
    },
    {
      "cell_type": "code",
      "metadata": {
        "id": "aP6RPzzXjM7G"
      },
      "source": [
        "#Найти индексы объекта Series кратные 3\n",
        "s = pd.Series(np.random.randint(low=1, high=10, size=[7]))\n",
        " \n",
        "# вариант 1\n",
        "ans1 = np.argwhere(s % 3==0).flatten()\n",
        "print(ans1)\n",
        " \n",
        "# вариант 2\n",
        "ans2 = s[s % 3 == 0].index\n",
        "print(ans2)"
      ],
      "execution_count": null,
      "outputs": []
    },
    {
      "cell_type": "code",
      "metadata": {
        "id": "aTXpTMIWjVaW"
      },
      "source": [
        "#Получить данные по индексам объекта Series\n",
        "s = pd.Series(list('abcdefghijklmnopqrstuvwxyz'))\n",
        "p = [0, 4, 8, 14, 20, 10]\n",
        " \n",
        "# вариант 1\n",
        "ans1 = s[p]\n",
        "print(ans1)\n",
        " \n",
        "# вариант 2 (take - также может использовать многоуровневые массивы)\n",
        "ans2 = s.take(p)\n",
        "print(ans2)"
      ],
      "execution_count": null,
      "outputs": []
    },
    {
      "cell_type": "code",
      "metadata": {
        "id": "jYcwqT9ijggZ"
      },
      "source": [
        "#Объединить два объекта Series вертикально и горизонтально\n",
        "s1 = pd.Series(range(5))\n",
        "s2 = pd.Series(list('abcde'))\n",
        " \n",
        "ans_vertical = s1.append(s2)\n",
        "ans_horizontal = pd.concat([s1, s2], axis=1)\n",
        " \n",
        "print(ans_vertical)\n",
        "print(ans_horizontal)"
      ],
      "execution_count": null,
      "outputs": []
    },
    {
      "cell_type": "code",
      "metadata": {
        "id": "cJ81efdijkwI"
      },
      "source": [
        "#Получить индексы объекта Series A, данные которых содержатся в объетке Series B\n",
        "s1 = pd.Series([5, 3, 2, 1, 4, 11, 13, 8, 7])\n",
        "s2 = pd.Series([1, 5, 13, 2])\n",
        " \n",
        "# вариант 1 (медленный)\n",
        "ans1 = np.asarray([np.where(i == s1)[0].tolist()[0] for i in s2])\n",
        "print(ans1)\n",
        " \n",
        "# вариант 2 (медленный)\n",
        "ans2 = np.asarray([pd.Index(s1).get_loc(i) for i in s2])\n",
        "print(ans2)\n",
        " \n",
        "# вариант 3 (быстрый)\n",
        "ans3 = np.argwhere(s1.isin(s2)).flatten()\n",
        "print(ans3)"
      ],
      "execution_count": null,
      "outputs": []
    },
    {
      "cell_type": "code",
      "metadata": {
        "id": "29wpC_hJjo75"
      },
      "source": [
        "#Получить объект Series B, котоырй содержит элементы без повторений объекта A\n",
        "s = pd.Series(np.random.randint(low=1, high=10, size=[10]))\n",
        "ans = pd.Series(s.unique())\n",
        "print(ans)"
      ],
      "execution_count": null,
      "outputs": []
    },
    {
      "cell_type": "code",
      "metadata": {
        "id": "5uwBlPNijtHq",
        "outputId": "7a0e8c96-87aa-4706-8fa8-e0058d62a396",
        "colab": {
          "base_uri": "https://localhost:8080/"
        }
      },
      "source": [
        "#Преобразовать каждый символ объекта Series в верхний регистр\n",
        "\n",
        "s = pd.Series(['life', 'is', 'interesting'])\n",
        " \n",
        "# преобразование данных Series в строку\n",
        "s = pd.Series(str(i) for i in s)\n",
        " \n",
        "# вариант 1\n",
        "ans1 = s.map(lambda x: x.title())\n",
        "print(ans1)\n",
        " \n",
        "# вариант 1\n",
        "ans2 = pd.Series(i.title() for i in s)\n",
        "print(ans2)\n"
      ],
      "execution_count": null,
      "outputs": [
        {
          "output_type": "stream",
          "text": [
            "0           Life\n",
            "1             Is\n",
            "2    Interesting\n",
            "dtype: object\n",
            "0           Life\n",
            "1             Is\n",
            "2    Interesting\n",
            "dtype: object\n"
          ],
          "name": "stdout"
        }
      ]
    },
    {
      "cell_type": "code",
      "metadata": {
        "id": "3yUWo3OIjxju"
      },
      "source": [
        "#Рассчитать количество символов в объекте Series\n",
        "s = pd.Series(['one', 'two', 'three', 'four', 'five'])\n",
        "# преобразование в строковый тип\n",
        "s = pd.Series(str(i) for i in s)\n",
        " \n",
        "# вариант 1\n",
        "ans1 = np.asarray(s.map(lambda x: len(x)))\n",
        "print(ans1)\n",
        " \n",
        "# вариант 2\n",
        "ans2 = np.asarray([len(i) for i in s])\n",
        "print(ans2)"
      ],
      "execution_count": null,
      "outputs": []
    },
    {
      "cell_type": "code",
      "metadata": {
        "id": "8m5ycO8xj5_r"
      },
      "source": [
        "#Найти разность между объектом Series и смещением объекта Series на n\n",
        "n = 1\n",
        " \n",
        "s = pd.Series([1, 5, 7, 8, 12, 15, 17])\n",
        " \n",
        "ans = s.diff(periods=n)\n",
        " \n",
        "print(ans)"
      ],
      "execution_count": null,
      "outputs": []
    },
    {
      "cell_type": "code",
      "metadata": {
        "id": "BNK1u0-Lj9UG"
      },
      "source": [
        "#Преобразовать разыне форматы строк объекта Series в дату\n",
        "s = pd.Series(['2017/01/01', '2015-02-02', '15 Jan 2019'])\n",
        " \n",
        "# возможно нестабильное решение, необходимо корректно указать строковые значения,\n",
        "# т.к. могут быть перепутаны месяц и день\n",
        "ans = pd.to_datetime(s)\n",
        " \n",
        "print(ans)"
      ],
      "execution_count": null,
      "outputs": []
    },
    {
      "cell_type": "code",
      "metadata": {
        "id": "UsvsmEcgkBMw"
      },
      "source": [
        "#Поскольку работа с датой часто встречается в работе, то см. еще один пример\n",
        "# все данные должны иметь одинаковый формат (часто бывает выгрузка из SQL)\n",
        "s = pd.Series(['14.02.2019', '22.01.2019', '01.03.2019'])\n",
        " \n",
        "# преобразование в дату\n",
        "ans = pd.to_datetime(s, format='%d.%m.%Y')\n",
        " \n",
        "print(ans)"
      ],
      "execution_count": null,
      "outputs": []
    },
    {
      "cell_type": "code",
      "metadata": {
        "id": "l5m5JRbtkPe5"
      },
      "source": [
        "#Получить год, месяц, день, день недели, номер дня в году от объекта Series (string)\n",
        "from dateutil.parser import parse\n",
        " \n",
        "s = pd.Series(['01 Jan 2018', '02-02-2011', '20120303', '2013/04/04', '2018-12-31'])\n",
        " \n",
        "# парсим в дату и время\n",
        "s_ts = s.map(lambda x: parse(x, yearfirst=True))\n",
        " \n",
        "# получаем года\n",
        "print(s_ts.dt.year)\n",
        " \n",
        "# получаем месяца\n",
        "print(s_ts.dt.month)\n",
        " \n",
        "# получаем дни\n",
        "print(s_ts.dt.day)\n",
        " \n",
        "# получаем номер недели\n",
        "print(s_ts.dt.weekofyear)\n",
        " \n",
        "# получаем номер дня в году\n",
        "print(s_ts.dt.dayofyear)"
      ],
      "execution_count": null,
      "outputs": []
    },
    {
      "cell_type": "code",
      "metadata": {
        "id": "FJBhBBEbkWYn"
      },
      "source": [
        "#Отобрать элементы объекта Series, кторые содержат не менее двух гласных\n",
        "from collections import Counter\n",
        " \n",
        "s = pd.Series(['Яблоко', 'Orange', 'Plan', 'Python', 'Апельсин', 'Стол', 'Reliance'])\n",
        "mask = s.map(lambda x: sum([Counter(x.lower()).get(i, 0) for i in list('aeiouаоиеёэыуюя')]) >= 2)\n",
        "ans = s[mask]\n",
        "print(ans)"
      ],
      "execution_count": null,
      "outputs": []
    },
    {
      "cell_type": "code",
      "metadata": {
        "id": "yQbzequ7kpik"
      },
      "source": [
        "#Отобрать e-маилы из объекта Series (можно юзать регулярки)\n",
        "import re\n",
        " \n",
        "emails = pd.Series(['test text @test.com', 'test@mail.ru', 'test.2ru', 'test@pp'])\n",
        "pattern = '[A-Za-z0-9._%+-]+@[A-Za-z0-9.-]+\\\\.[A-Za-z]{2,4}'\n",
        "mask = emails.map(lambda x: bool(re.match(pattern, x)))\n",
        "ans = emails[mask]\n",
        "print(ans)"
      ],
      "execution_count": null,
      "outputs": []
    },
    {
      "cell_type": "code",
      "metadata": {
        "id": "HHYSbf7Zkvlb"
      },
      "source": [
        "#Получить среднее значение каждого уникального объекта Series s1 через \"маску\" другого объекта Series s2\n",
        "\n",
        "n = 10\n",
        "s1 = pd.Series(np.random.choice(['dog', 'cat', 'horse', 'bird'], n))\n",
        "s2 = pd.Series(np.linspace(1,n,n))\n",
        "ans = s2.groupby(s1).mean()\n",
        "print(ans)"
      ],
      "execution_count": null,
      "outputs": []
    }
  ]
}