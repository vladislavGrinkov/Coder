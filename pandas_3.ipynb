{
  "nbformat": 4,
  "nbformat_minor": 0,
  "metadata": {
    "colab": {
      "name": "pandas_3.ipynb",
      "provenance": [],
      "include_colab_link": true
    },
    "kernelspec": {
      "name": "python3",
      "display_name": "Python 3"
    }
  },
  "cells": [
    {
      "cell_type": "markdown",
      "metadata": {
        "id": "view-in-github",
        "colab_type": "text"
      },
      "source": [
        "<a href=\"https://colab.research.google.com/github/vladislavGrinkov/Coder/blob/master/pandas_3.ipynb\" target=\"_parent\"><img src=\"https://colab.research.google.com/assets/colab-badge.svg\" alt=\"Open In Colab\"/></a>"
      ]
    },
    {
      "cell_type": "code",
      "metadata": {
        "id": "gM7S-kf9W09i"
      },
      "source": [
        "import pandas as pd\n",
        "import numpy as np"
      ],
      "execution_count": null,
      "outputs": []
    },
    {
      "cell_type": "markdown",
      "metadata": {
        "id": "5zjMYBpYWluH"
      },
      "source": [
        "*Найти евклидово расстоняие между двумя объектами Series*"
      ]
    },
    {
      "cell_type": "code",
      "metadata": {
        "colab": {
          "base_uri": "https://localhost:8080/"
        },
        "id": "KC_aBK8tWotN",
        "outputId": "cdaa9d90-3b9a-4654-9e66-a1f24b0ab8c8"
      },
      "source": [
        "n = 3\n",
        " \n",
        "s1 = pd.Series(np.random.randint(low=1, high=10, size=[n]))\n",
        "s2 = pd.Series(np.random.randint(low=1, high=10, size=[n]))\n",
        "ans = np.linalg.norm(s1-s2)\n",
        "ans2 = sum((s1-s2)**2)**0.5\n",
        "print(ans2)"
      ],
      "execution_count": null,
      "outputs": [
        {
          "output_type": "stream",
          "text": [
            "3.0\n"
          ],
          "name": "stdout"
        }
      ]
    },
    {
      "cell_type": "markdown",
      "metadata": {
        "id": "91aY-tZ1XBSp"
      },
      "source": [
        "*Найти индексы локальных максимумов в объекте Series*"
      ]
    },
    {
      "cell_type": "code",
      "metadata": {
        "colab": {
          "base_uri": "https://localhost:8080/"
        },
        "id": "NqgShLXRXG6b",
        "outputId": "02103cd4-d469-420b-afa6-4b5e8e20f3c3"
      },
      "source": [
        "s = pd.Series([1, 5, 7, 11, 8, 4, 12, 5, 8, 16, 8])\n",
        "dd = np.diff(np.sign(np.diff(s)))\n",
        "ans = np.where(dd == -2)[0] + 1\n",
        "print(ans)"
      ],
      "execution_count": null,
      "outputs": [
        {
          "output_type": "stream",
          "text": [
            "[3 6 9]\n"
          ],
          "name": "stdout"
        }
      ]
    },
    {
      "cell_type": "markdown",
      "metadata": {
        "id": "3Sj9RtByXIXn"
      },
      "source": [
        "*Заменить пробелы наименее часто встречающимся символов*"
      ]
    },
    {
      "cell_type": "code",
      "metadata": {
        "colab": {
          "base_uri": "https://localhost:8080/",
          "height": 35
        },
        "id": "Oyk6sMWeXQMp",
        "outputId": "c18fe25b-261e-47c6-e110-a44d673b4312"
      },
      "source": [
        "str_test = 'bnb ber kekb dare'\n",
        " \n",
        "s = pd.Series(list(str_test))\n",
        "freq = s.value_counts()\n",
        "least_freq = freq.dropna().index[-1]\n",
        "''.join(s.replace(' ', least_freq))"
      ],
      "execution_count": null,
      "outputs": [
        {
          "output_type": "execute_result",
          "data": {
            "application/vnd.google.colaboratory.intrinsic+json": {
              "type": "string"
            },
            "text/plain": [
              "'bnbaberakekbadare'"
            ]
          },
          "metadata": {
            "tags": []
          },
          "execution_count": 13
        }
      ]
    },
    {
      "cell_type": "markdown",
      "metadata": {
        "id": "XElch9n_XV3a"
      },
      "source": [
        "*Создать объект Series, который содержит в индексах даты выходных дней субботы, а в значениях случайные числа от 1 до 10*"
      ]
    },
    {
      "cell_type": "code",
      "metadata": {
        "id": "8UX5ESY6XZhC"
      },
      "source": [
        "s = pd.Series(np.random.randint(low=1,high=10,size=[10]), pd.date_range('2018-01-01', periods=10, freq='W-SAT'))\n",
        "print(s)"
      ],
      "execution_count": null,
      "outputs": []
    },
    {
      "cell_type": "markdown",
      "metadata": {
        "id": "69fC4O1DXcrq"
      },
      "source": [
        "*Заполнить пропущенные даты, значением выше (заполненной даты)*"
      ]
    },
    {
      "cell_type": "code",
      "metadata": {
        "id": "UjGIuGs9XgZq"
      },
      "source": [
        "s = pd.Series([2, 5, 8, np.nan], index=pd.to_datetime(['2018-01-01', '2018-01-03', '2018-01-06', '2018-01-08']))\n",
        "# заполнить последующими значениями\n",
        "ans = s.resample('D').bfill()\n",
        "print(ans)"
      ],
      "execution_count": null,
      "outputs": []
    },
    {
      "cell_type": "markdown",
      "metadata": {
        "id": "-kA_LYvQXtDx"
      },
      "source": [
        "*Вычислить автокорреляцию объекта Series*"
      ]
    },
    {
      "cell_type": "code",
      "metadata": {
        "id": "cl1KeQlUXwio"
      },
      "source": [
        "n = 20\n",
        " \n",
        "s = pd.Series(np.arange(n))\n",
        "s = s + np.random.normal(1, 3, n)\n",
        " \n",
        "autocorr = [s.autocorr(lag=i).round(2) for i in range(n)]\n",
        " \n",
        "print(autocorr)"
      ],
      "execution_count": null,
      "outputs": []
    }
  ]
}