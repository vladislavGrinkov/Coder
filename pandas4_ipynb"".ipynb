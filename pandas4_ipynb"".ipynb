{
  "nbformat": 4,
  "nbformat_minor": 0,
  "metadata": {
    "colab": {
      "name": "pandas4.ipynb\"\"",
      "provenance": [],
      "collapsed_sections": [],
      "include_colab_link": true
    },
    "kernelspec": {
      "name": "python3",
      "display_name": "Python 3"
    }
  },
  "cells": [
    {
      "cell_type": "markdown",
      "metadata": {
        "id": "view-in-github",
        "colab_type": "text"
      },
      "source": [
        "<a href=\"https://colab.research.google.com/github/vladislavGrinkov/Coder/blob/master/pandas4_ipynb%22%22.ipynb\" target=\"_parent\"><img src=\"https://colab.research.google.com/assets/colab-badge.svg\" alt=\"Open In Colab\"/></a>"
      ]
    },
    {
      "cell_type": "code",
      "metadata": {
        "id": "xZCeIVRkpGDa"
      },
      "source": [
        "#Импортировать модули sys numpy pandas\n",
        "import numpy as np\n",
        "import pandas as pd"
      ],
      "execution_count": 2,
      "outputs": []
    },
    {
      "cell_type": "code",
      "metadata": {
        "id": "fPa747UhWlpV",
        "outputId": "2e9bde45-a6bd-427a-f475-2e6b868f3bec",
        "colab": {
          "base_uri": "https://localhost:8080/"
        }
      },
      "source": [
        "#Создать объект pandas Series из листа, объекта NumPy, и словаря\n",
        "src_list = list('abcde')\n",
        "src_arr = np.arange(5)\n",
        "src_dict = dict(zip(src_list, src_arr))\n",
        " \n",
        "s1 = pd.Series(src_list)\n",
        "s2 = pd.Series(src_arr)\n",
        "s3 = pd.Series(src_dict)\n",
        " \n",
        "print(s1)\n",
        "print(s2)\n",
        "print(s3)"
      ],
      "execution_count": 3,
      "outputs": [
        {
          "output_type": "stream",
          "text": [
            "0    2\n",
            "1    4\n",
            "2    6\n",
            "dtype: int64\n"
          ],
          "name": "stdout"
        }
      ]
    },
    {
      "cell_type": "code",
      "metadata": {
        "id": "bOsJqEhCXHk7",
        "outputId": "5dc1e551-96ae-4f8c-92ba-5314330ef7d5",
        "colab": {
          "base_uri": "https://localhost:8080/"
        }
      },
      "source": [
        "#Преобразовать объект Series в DataFrame\n",
        "s = pd.Series(np.random.randint(low=1, high=10, size=[35]))\n",
        " \n",
        "# преобразование в reshape\n",
        "r = (7, 5)\n",
        " \n",
        "if r[0] * r[1] != len(s):\n",
        "    sys.exit('не возможно применить reshape')\n",
        "    \n",
        "df = pd.DataFrame(s.values.reshape(r))\n",
        " \n",
        "print(df)"
      ],
      "execution_count": 4,
      "outputs": [
        {
          "output_type": "stream",
          "text": [
            "2    a\n",
            "1    b\n",
            "3    c\n",
            "dtype: object\n"
          ],
          "name": "stdout"
        }
      ]
    },
    {
      "cell_type": "code",
      "metadata": {
        "id": "DxtOgCfsYEn_",
        "outputId": "682e3ba8-9ed3-4626-92b0-5adcac86a3e7",
        "colab": {
          "base_uri": "https://localhost:8080/"
        }
      },
      "source": [
        "#создать объект Series\n",
        "\n",
        "area_dict = {'California': 423967,\n",
        "             'Texas': 695662,\n",
        "             'New York': 141297,\n",
        "             'Florida': 170312,\n",
        "             'Illinois': 149995}\n",
        "area = pd.Series(area_dict)\n",
        "print(area)"
      ],
      "execution_count": 5,
      "outputs": [
        {
          "output_type": "stream",
          "text": [
            "California    423967\n",
            "Texas         695662\n",
            "New York      141297\n",
            "Florida       170312\n",
            "Illinois      149995\n",
            "dtype: int64\n"
          ],
          "name": "stdout"
        }
      ]
    },
    {
      "cell_type": "code",
      "metadata": {
        "id": "83hkF68CYF0X"
      },
      "source": [
        "#создать объект Series\n",
        "area_dict = {'California': 423967,\n",
        "             'Texas': 695662,\n",
        "             'New York': 141297,\n",
        "             'Florida': 170312,\n",
        "             'Illinois': 149995}\n",
        "area = pd.Series(area_dict)\n",
        "\n",
        "population_dict = {'California': 38332521,\n",
        "                   'Texas': 26448193,\n",
        "                   'New York': 19651127,\n",
        "                   'Florida': 19552860,\n",
        "                   'Illinois': 12882135}\n",
        "population = pd.Series(population_dict)\n",
        "\n",
        "states = pd.DataFrame({'population': population, 'area': area})\n",
        "print(states)"
      ],
      "execution_count": null,
      "outputs": []
    },
    {
      "cell_type": "code",
      "metadata": {
        "id": "D_tj-JPtYVOX"
      },
      "source": [
        "#преобразовать в DataFrame\n",
        "area_dict = {'California': 423967,\n",
        "             'Texas': 695662,\n",
        "             'New York': 141297,\n",
        "             'Florida': 170312,\n",
        "             'Illinois': 149995}\n",
        "area = pd.Series(area_dict)\n",
        "\n",
        "population_dict = {'California': 38332521,\n",
        "                   'Texas': 26448193,\n",
        "                   'New York': 19651127,\n",
        "                   'Florida': 19552860,\n",
        "                   'Illinois': 12882135}\n",
        "population = pd.Series(population_dict)\n",
        "\n",
        "states = pd.DataFrame({'population': population, 'area': area})\n",
        "print('Индексы - states.index:')\n",
        "print(states.index)\n",
        "print('')\n",
        "print('Колонки - states.columns:')\n",
        "print(states.columns)\n"
      ],
      "execution_count": null,
      "outputs": []
    },
    {
      "cell_type": "code",
      "metadata": {
        "id": "z1Lb9_MOZC_6",
        "outputId": "b0419e05-65b4-461c-9ee0-b6964af8dbb8",
        "colab": {
          "base_uri": "https://localhost:8080/"
        }
      },
      "source": [
        "#объединить несколько объектов Series в Dataframe\n",
        "\n",
        "area_dict = {'California': 423967,\n",
        "             'Texas': 695662,\n",
        "             'New York': 141297,\n",
        "             'Florida': 170312,\n",
        "             'Illinois': 149995}\n",
        "area_dict_next = {\n",
        "    'Moscow': 21333,\n",
        "}\n",
        "area = pd.Series(area_dict)\n",
        "area1 = pd.Series(area_dict_next)\n",
        "print(pd.concat([area, area1]))\n"
      ],
      "execution_count": 12,
      "outputs": [
        {
          "output_type": "stream",
          "text": [
            "California    423967\n",
            "Texas         695662\n",
            "New York      141297\n",
            "Florida       170312\n",
            "Illinois      149995\n",
            "Moscow         21333\n",
            "dtype: int64\n"
          ],
          "name": "stdout"
        }
      ]
    },
    {
      "cell_type": "code",
      "metadata": {
        "id": "anRDzFI4apeP"
      },
      "source": [
        "#Присвоить имя индексу объекта Series\n",
        " \n",
        "s = pd.Series({'a': 1, 'b': 2, 'c': 3})\n",
        " \n",
        "s.name = 'my_name'\n",
        " \n",
        "print(s)"
      ],
      "execution_count": null,
      "outputs": []
    },
    {
      "cell_type": "code",
      "metadata": {
        "id": "-i67a3LTa-fV",
        "outputId": "adee120f-6ecb-43d5-a155-967528fcd4f9",
        "colab": {
          "base_uri": "https://localhost:8080/"
        }
      },
      "source": [
        "#Получить элементы объекта Series A, которых нет в объекте Series B\n",
        "s1 = pd.Series([1, 2, 3, 4, 5])\n",
        "s2 = pd.Series([4, 5, 6, 7, 8])\n",
        " \n",
        "# возвращает вместе с индексами\n",
        "ans = s1[~s1.isin(s2)]\n",
        " \n",
        "# возвразает значения\n",
        "ans2 = np.setdiff1d(s1, s2, assume_unique=False)\n",
        "print(ans)"
      ],
      "execution_count": 13,
      "outputs": [
        {
          "output_type": "stream",
          "text": [
            "0    1\n",
            "1    2\n",
            "2    3\n",
            "dtype: int64\n"
          ],
          "name": "stdout"
        }
      ]
    },
    {
      "cell_type": "code",
      "metadata": {
        "id": "IcmRMgiRbEUS"
      },
      "source": [
        "#Получить не пересекающиеся элементы в двух объектах Series\n",
        "s1 = pd.Series([1, 2, 3, 4, 5])\n",
        "s2 = pd.Series([4, 5, 6, 7, 8])\n",
        " \n",
        "# возвращает вместе с индексами\n",
        " \n",
        "# получаем объединенный Series без повтороений\n",
        "s_union = pd.Series(np.union1d(s1, s2))\n",
        "# получаем пересекающиеся данные\n",
        "s_intersect = pd.Series(np.intersect1d(s1, s2))\n",
        "# отбираем все данные, кроме пересекающихся\n",
        "ans = s_union[~s_union.isin(s_intersect)]\n",
        " \n",
        "# возвразает значения\n",
        "ans2 = np.setxor1d(s1, s2, assume_unique=False)\n",
        " \n",
        "print(ans)\n"
      ],
      "execution_count": null,
      "outputs": []
    }
  ]
}